{
 "cells": [
  {
   "cell_type": "markdown",
   "metadata": {},
   "source": [
    "### Learning from Text Book "
   ]
  },
  {
   "cell_type": "code",
   "execution_count": 1,
   "metadata": {},
   "outputs": [],
   "source": [
    "# Primary required import \n",
    "%matplotlib inline\n",
    "# Importing standard Qiskit libraries and configuring account\n",
    "from qiskit import QuantumCircuit, execute, Aer, IBMQ\n",
    "from qiskit.compiler import transpile, assemble\n",
    "from qiskit.tools.jupyter import *\n",
    "from qiskit.visualization import *\n",
    "# Loading your IBM Q account(s)\n",
    "provider = IBMQ.load_account()\n"
   ]
  },
  {
   "cell_type": "code",
   "execution_count": 2,
   "metadata": {},
   "outputs": [
    {
     "name": "stdout",
     "output_type": "stream",
     "text": [
      "<AccountProvider for IBMQ(hub='ibm-q', group='open', project='main')>\n"
     ]
    }
   ],
   "source": [
    "print(provider)"
   ]
  },
  {
   "cell_type": "code",
   "execution_count": 12,
   "metadata": {},
   "outputs": [
    {
     "data": {
      "text/plain": [
       "2"
      ]
     },
     "execution_count": 12,
     "metadata": {},
     "output_type": "execute_result"
    }
   ],
   "source": [
    "# Python and Jupyter\n",
    "\n",
    "1+1\n"
   ]
  },
  {
   "cell_type": "code",
   "execution_count": 19,
   "metadata": {},
   "outputs": [
    {
     "data": {
      "text/plain": [
       "[0, 1, 2, 3]"
      ]
     },
     "execution_count": 19,
     "metadata": {},
     "output_type": "execute_result"
    }
   ],
   "source": [
    "a_list = [0,1,2,3]\n",
    "a_list"
   ]
  },
  {
   "cell_type": "markdown",
   "metadata": {},
   "source": [
    "### List enclosed in [ , ]  Whereas tupple in { } \n",
    "##### Element in list can be changed not in tupple\n"
   ]
  },
  {
   "cell_type": "code",
   "execution_count": 25,
   "metadata": {},
   "outputs": [
    {
     "name": "stdout",
     "output_type": "stream",
     "text": [
      "[0, 1]\n",
      "[42, 0.5, True, [0, 1], None, 'Banana']\n"
     ]
    },
    {
     "data": {
      "text/plain": [
       "'Banana'"
      ]
     },
     "execution_count": 25,
     "metadata": {},
     "output_type": "execute_result"
    }
   ],
   "source": [
    "a_list = [ 42, 0.5, True, [0,1], None, 'Banana' ]\n",
    "\n",
    "a_list[5] \n",
    "print(a_list[3]) \n",
    "print(a_list)\n",
    "a_list[5] =\"Apple\"\n",
    "a_list\n",
    "\n",
    "\n",
    "a_tuple = (42, 0.5, True, [0,1], None, 'Banana')\n",
    "a_tuple\n",
    "a_tuple[5]\n"
   ]
  },
  {
   "cell_type": "code",
   "execution_count": 27,
   "metadata": {},
   "outputs": [],
   "source": [
    "#Element in list can be changed not in tupple\n",
    "#a_tuple[5] = \"Apple\"\n",
    "# will get error message \"TypeError: 'tuple' object does not support item assignment\"\n"
   ]
  },
  {
   "cell_type": "markdown",
   "metadata": {},
   "source": [
    "###### Also we can add an element to the end of a list, which we cannot do with tuples."
   ]
  },
  {
   "cell_type": "code",
   "execution_count": 28,
   "metadata": {},
   "outputs": [
    {
     "name": "stdout",
     "output_type": "stream",
     "text": [
      "[42, 0.5, True, [0, 1], None, 'Apple', 3.14]\n"
     ]
    }
   ],
   "source": [
    "a_list.append( 3.14 )\n",
    "\n",
    "print(a_list)"
   ]
  },
  {
   "cell_type": "code",
   "execution_count": 31,
   "metadata": {},
   "outputs": [
    {
     "data": {
      "text/plain": [
       "(42, 0.5, True, [0, 1], None, 'Banana')"
      ]
     },
     "execution_count": 31,
     "metadata": {},
     "output_type": "execute_result"
    }
   ],
   "source": [
    "# Will get error if try to append tuple\n",
    "# AttributeError: 'tuple' object has no attribute 'append'\n",
    "#a_tuple.append( 3.14 )\n",
    "\n",
    "a_tuple\n"
   ]
  },
  {
   "cell_type": "markdown",
   "metadata": {},
   "source": [
    "#### Another useful data structure is the dictionary. This stores a set of values, each labeled by a unique key. Values can be any data type. Keys can be anything sufficiently simple (integer, float, Boolean, string). It cannot be a list, but it can be a tuple.\n"
   ]
  },
  {
   "cell_type": "code",
   "execution_count": 34,
   "metadata": {},
   "outputs": [
    {
     "data": {
      "text/plain": [
       "{1: 'This is the value, for the key 1',\n",
       " 'This is the key for a value 1': 1,\n",
       " False: ':)',\n",
       " (0, 1): 256}"
      ]
     },
     "execution_count": 34,
     "metadata": {},
     "output_type": "execute_result"
    }
   ],
   "source": [
    "a_dict = { 1:'This is the value, for the key 1', 'This is the key for a value 1':1, False:':)', (0,1):256 }\n",
    "a_dict"
   ]
  },
  {
   "cell_type": "code",
   "execution_count": 35,
   "metadata": {},
   "outputs": [
    {
     "data": {
      "text/plain": [
       "'This is the value, for the key 1'"
      ]
     },
     "execution_count": 35,
     "metadata": {},
     "output_type": "execute_result"
    }
   ],
   "source": [
    "a_dict[1]"
   ]
  },
  {
   "cell_type": "code",
   "execution_count": 51,
   "metadata": {},
   "outputs": [
    {
     "name": "stdout",
     "output_type": "stream",
     "text": [
      "0 ,\n",
      "1 ,\n",
      "2 ,\n"
     ]
    }
   ],
   "source": []
  },
  {
   "cell_type": "code",
   "execution_count": 53,
   "metadata": {},
   "outputs": [
    {
     "data": {
      "text/plain": [
       "{1: 'This is the value, for the key 1',\n",
       " 'This is the key for a value 1': 1,\n",
       " False: ':)',\n",
       " (0, 1): 256,\n",
       " 'new key': 'new_value',\n",
       " '6': '6'}"
      ]
     },
     "execution_count": 53,
     "metadata": {},
     "output_type": "execute_result"
    }
   ],
   "source": [
    "#New key/value pairs can be added by just supplying the n\n",
    "#ew value for the new key\n",
    "\n",
    "a_dict['6'] = '6'\n",
    "a_dict"
   ]
  },
  {
   "cell_type": "code",
   "execution_count": 54,
   "metadata": {},
   "outputs": [
    {
     "name": "stdout",
     "output_type": "stream",
     "text": [
      "0 ,\n",
      "1 ,\n",
      "2 ,\n"
     ]
    }
   ],
   "source": [
    "## looping  : for \n",
    "k=3\n",
    "for j in range(k):\n",
    " print(j,\",\")"
   ]
  },
  {
   "cell_type": "code",
   "execution_count": 55,
   "metadata": {},
   "outputs": [
    {
     "name": "stdout",
     "output_type": "stream",
     "text": [
      "42\n",
      "0.5\n",
      "True\n",
      "[0, 1]\n",
      "None\n",
      "Apple\n",
      "3.14\n"
     ]
    }
   ],
   "source": [
    "for j in a_list:\n",
    "    print(j)"
   ]
  },
  {
   "cell_type": "code",
   "execution_count": 57,
   "metadata": {},
   "outputs": [
    {
     "name": "stdout",
     "output_type": "stream",
     "text": [
      "Not much fruit here!\n"
     ]
    }
   ],
   "source": [
    "## Conditional : if \n",
    "\n",
    "if 'strawberry' in a_list:\n",
    "    print('We have a strawberry!')\n",
    "elif a_list[5]=='apple':\n",
    "    print('We have an apple!')\n",
    "else:\n",
    "    print('Not much fruit here!')"
   ]
  },
  {
   "cell_type": "code",
   "execution_count": 59,
   "metadata": {},
   "outputs": [
    {
     "data": {
      "text/plain": [
       "1.0"
      ]
     },
     "execution_count": 59,
     "metadata": {},
     "output_type": "execute_result"
    }
   ],
   "source": [
    "#importing examples\n",
    "\n",
    "#Full package \n",
    "\n",
    "\n",
    "#Before import statement will have error \n",
    "#numpy.sin((numpy.pi/2))\n",
    "import numpy\n",
    "#After import \n",
    "numpy.sin((numpy.pi/2))\n"
   ]
  },
  {
   "cell_type": "code",
   "execution_count": 61,
   "metadata": {},
   "outputs": [],
   "source": [
    "#Define name to package \n",
    "import numpy as np"
   ]
  },
  {
   "cell_type": "code",
   "execution_count": 62,
   "metadata": {},
   "outputs": [],
   "source": [
    "from numpy import * "
   ]
  },
  {
   "cell_type": "markdown",
   "metadata": {},
   "source": [
    "*A good thing to know about in any language is how to make a function.\n",
    "\n",
    "Here's a function, whose name was chosen to be do_some_maths, whose inputs are named Input1 and Input2 and whose output is named the_answer.*"
   ]
  },
  {
   "cell_type": "code",
   "execution_count": 64,
   "metadata": {},
   "outputs": [
    {
     "data": {
      "text/plain": [
       "3"
      ]
     },
     "execution_count": 64,
     "metadata": {},
     "output_type": "execute_result"
    }
   ],
   "source": [
    "def do_some_maths ( Input1, Input2 ):\n",
    "    the_answer = Input1 + Input2\n",
    "    return the_answer\n",
    "\n",
    "do_some_maths(1,2)"
   ]
  },
  {
   "cell_type": "code",
   "execution_count": null,
   "metadata": {},
   "outputs": [],
   "source": []
  },
  {
   "cell_type": "code",
   "execution_count": null,
   "metadata": {},
   "outputs": [],
   "source": []
  },
  {
   "cell_type": "code",
   "execution_count": null,
   "metadata": {},
   "outputs": [],
   "source": []
  },
  {
   "cell_type": "code",
   "execution_count": null,
   "metadata": {},
   "outputs": [],
   "source": []
  },
  {
   "cell_type": "code",
   "execution_count": null,
   "metadata": {},
   "outputs": [],
   "source": []
  },
  {
   "cell_type": "code",
   "execution_count": null,
   "metadata": {},
   "outputs": [],
   "source": []
  }
 ],
 "metadata": {
  "kernelspec": {
   "display_name": "Python 3",
   "language": "python",
   "name": "python3"
  },
  "language_info": {
   "codemirror_mode": {
    "name": "ipython",
    "version": 3
   },
   "file_extension": ".py",
   "mimetype": "text/x-python",
   "name": "python",
   "nbconvert_exporter": "python",
   "pygments_lexer": "ipython3",
   "version": "3.7.6"
  }
 },
 "nbformat": 4,
 "nbformat_minor": 4
}
